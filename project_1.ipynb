{
  "nbformat": 4,
  "nbformat_minor": 0,
  "metadata": {
    "colab": {
      "provenance": [],
      "authorship_tag": "ABX9TyPTWsxSFJnkFsbFapUwOTIZ",
      "include_colab_link": true
    },
    "kernelspec": {
      "name": "python3",
      "display_name": "Python 3"
    },
    "language_info": {
      "name": "python"
    }
  },
  "cells": [
    {
      "cell_type": "markdown",
      "metadata": {
        "id": "view-in-github",
        "colab_type": "text"
      },
      "source": [
        "<a href=\"https://colab.research.google.com/github/Bongo-Seakhoa/Webscrape_project_1/blob/main/project_1.ipynb\" target=\"_parent\"><img src=\"https://colab.research.google.com/assets/colab-badge.svg\" alt=\"Open In Colab\"/></a>"
      ]
    },
    {
      "cell_type": "markdown",
      "source": [
        "# Webscraping sample project based on a real Upwork paid project."
      ],
      "metadata": {
        "id": "Ye05ghRUn_lz"
      }
    },
    {
      "cell_type": "markdown",
      "source": [
        "The task given is the following : \n",
        "Write a Python algorithm that finds websites with the format `https://12695.portal.athenahealth.com/` and runs through the different variations of that and then pulls the practice name on the site into an Excel file.\n",
        "\n",
        "Every site has the same format \"welcome to the _ patient portal\"- so we would just need the algorithm to run through all the different available variations of the URL format and then pull the URL and the portal and the \"welcome to the _ patient portal\" part of the site into an excel file."
      ],
      "metadata": {
        "id": "X-o89aKlmS0x"
      }
    },
    {
      "cell_type": "code",
      "execution_count": 1,
      "metadata": {
        "id": "hc-vo5pAlu3e"
      },
      "outputs": [],
      "source": [
        "#importing libraries\n",
        "import requests \n",
        "from bs4 import BeautifulSoup\n",
        "import pandas as pd"
      ]
    },
    {
      "cell_type": "code",
      "source": [
        "#base url\n",
        "url = \"https://12695.portal.athenahealth.com/\""
      ],
      "metadata": {
        "id": "dP1kPC1fl2uL"
      },
      "execution_count": 2,
      "outputs": []
    },
    {
      "cell_type": "code",
      "source": [
        "response = requests.get(url)"
      ],
      "metadata": {
        "id": "9FJuvU3GmIBL"
      },
      "execution_count": 3,
      "outputs": []
    },
    {
      "cell_type": "code",
      "source": [
        "#checking response\n",
        "response"
      ],
      "metadata": {
        "colab": {
          "base_uri": "https://localhost:8080/"
        },
        "id": "xfM2cSO1oXYD",
        "outputId": "3d644733-11e5-48a9-fb90-488ce8fcf783"
      },
      "execution_count": 4,
      "outputs": [
        {
          "output_type": "execute_result",
          "data": {
            "text/plain": [
              "<Response [200]>"
            ]
          },
          "metadata": {},
          "execution_count": 4
        }
      ]
    },
    {
      "cell_type": "code",
      "source": [
        "#Assigning the text to a html variable name \n",
        "html = response.text"
      ],
      "metadata": {
        "id": "JBgTgoRiocta"
      },
      "execution_count": 5,
      "outputs": []
    },
    {
      "cell_type": "code",
      "source": [
        "soup = BeautifulSoup(html, 'html.parser')"
      ],
      "metadata": {
        "id": "HFjSRPYdoqRE"
      },
      "execution_count": 6,
      "outputs": []
    },
    {
      "cell_type": "code",
      "source": [
        "soup.find_all('h1')[-1]"
      ],
      "metadata": {
        "colab": {
          "base_uri": "https://localhost:8080/"
        },
        "id": "rwxg9aHUpBzj",
        "outputId": "95b90708-1daf-475d-cf10-91586bc6a226"
      },
      "execution_count": 7,
      "outputs": [
        {
          "output_type": "execute_result",
          "data": {
            "text/plain": [
              "<h1 align=\"center\">\n",
              "Dr. Richard Handelsman</h1>"
            ]
          },
          "metadata": {},
          "execution_count": 7
        }
      ]
    },
    {
      "cell_type": "markdown",
      "source": [
        "Looking at the website we can see that the last element in the 'h1' tag is always the practice name consistently in more than 4 website vaiations 12695-12699 and this then simplifies things for us as we can just extract that instead of the \"welcome to the _ patient portal\""
      ],
      "metadata": {
        "id": "TCgjr6oopwGb"
      }
    },
    {
      "cell_type": "code",
      "source": [
        "clinic_name = soup.find_all('h1')[-1].text.strip()"
      ],
      "metadata": {
        "id": "awx4nwNgpGit"
      },
      "execution_count": 8,
      "outputs": []
    },
    {
      "cell_type": "code",
      "source": [
        "#Defining a function that will return the clinic name \n",
        "\n",
        "def get_clinic_name(clinic_id):\n",
        "  url = f\"https://{clinic_id}.portal.athenahealth.com/\"\n",
        "  response = requests.get(url)\n",
        "  html = response.text\n",
        "  soup = BeautifulSoup(html, 'html.parser')\n",
        "  clinic_name = soup.find_all('h1')[-1].text.strip()\n",
        "  return clinic_name"
      ],
      "metadata": {
        "id": "K0sf4XKUqrsR"
      },
      "execution_count": 9,
      "outputs": []
    },
    {
      "cell_type": "markdown",
      "source": [
        "Now we do not know the range of the clinic ID's so that would be the next step. Upon inspection of the websites we find that there are two distinct errors that we get when a practice is not found \n",
        "- \"Sorry, we can't find that practice. Make sure you typed the right address.\"\n",
        "- \"Payment Confirmation\""
      ],
      "metadata": {
        "id": "ymC0hedWsvvJ"
      }
    },
    {
      "cell_type": "code",
      "source": [
        "get_clinic_name(5000)"
      ],
      "metadata": {
        "colab": {
          "base_uri": "https://localhost:8080/",
          "height": 35
        },
        "id": "GGD6aXf2sP-N",
        "outputId": "e6297dd2-d23f-4ae4-8083-808271b3f9d0"
      },
      "execution_count": 10,
      "outputs": [
        {
          "output_type": "execute_result",
          "data": {
            "text/plain": [
              "'Payment Confirmation'"
            ],
            "application/vnd.google.colaboratory.intrinsic+json": {
              "type": "string"
            }
          },
          "metadata": {},
          "execution_count": 10
        }
      ]
    },
    {
      "cell_type": "markdown",
      "source": [
        "Now we are going to combine it all and produce the final CSV document as requested by the client"
      ],
      "metadata": {
        "id": "bbxITOEGOGIH"
      }
    },
    {
      "cell_type": "code",
      "source": [
        "#Defining start and end paramiters of the clinic ID's (website vairiations)\n",
        "start = 12500\n",
        "end = 12700"
      ],
      "metadata": {
        "id": "dvKeJASuJIOP"
      },
      "execution_count": 11,
      "outputs": []
    },
    {
      "cell_type": "code",
      "source": [
        "#Creating a master list to hold all our dictionaries \n",
        "master_list = []\n",
        "#for loop to run through all our variations of the website as defined by our start and end.\n",
        "for clinic_id in range (start,end+1):\n",
        "  data_dict = {} \n",
        "  data_dict[\"clinic_id\"] = clinic_id\n",
        "  data_dict[\"clinic_name\"] = get_clinic_name(clinic_id)\n",
        "  if data_dict['clinic_name'] != \"Payment Confirmation\" and data_dict['clinic_name'] != \"Sorry, we can't find that practice. Make sure you typed the right address.\" and data_dict['clinic_name'] != \"\":\n",
        "    master_list.append(data_dict)"
      ],
      "metadata": {
        "id": "y1YhTNUCsW-P"
      },
      "execution_count": 13,
      "outputs": []
    },
    {
      "cell_type": "code",
      "source": [
        "#Creating a dataframe out of the master_list list of dictionaries\n",
        "df = pd.DataFrame(master_list)"
      ],
      "metadata": {
        "id": "ORGcJ_vJLrEX"
      },
      "execution_count": 14,
      "outputs": []
    },
    {
      "cell_type": "code",
      "source": [
        "#Creating the final CSV\n",
        "df.to_csv('clinic_data.csv', index=False)"
      ],
      "metadata": {
        "id": "n2xFQuo6Ly6z"
      },
      "execution_count": 15,
      "outputs": []
    },
    {
      "cell_type": "code",
      "source": [],
      "metadata": {
        "id": "a-_t7KFNMEco"
      },
      "execution_count": null,
      "outputs": []
    }
  ]
}