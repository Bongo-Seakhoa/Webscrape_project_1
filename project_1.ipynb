{
  "nbformat": 4,
  "nbformat_minor": 0,
  "metadata": {
    "colab": {
      "provenance": [],
      "authorship_tag": "ABX9TyP/NKvW6nhzNTd0EGrRYjsY",
      "include_colab_link": true
    },
    "kernelspec": {
      "name": "python3",
      "display_name": "Python 3"
    },
    "language_info": {
      "name": "python"
    }
  },
  "cells": [
    {
      "cell_type": "markdown",
      "metadata": {
        "id": "view-in-github",
        "colab_type": "text"
      },
      "source": [
        "<a href=\"https://colab.research.google.com/github/Bongo-Seakhoa/Webscrape_project_1/blob/main/project_1.ipynb\" target=\"_parent\"><img src=\"https://colab.research.google.com/assets/colab-badge.svg\" alt=\"Open In Colab\"/></a>"
      ]
    },
    {
      "cell_type": "markdown",
      "source": [
        "# Webscraping sample project based on a real Upwork paid project."
      ],
      "metadata": {
        "id": "Ye05ghRUn_lz"
      }
    },
    {
      "cell_type": "markdown",
      "source": [
        "The task given is the following : \n",
        "Write a Python algorithm that finds websites with the format `https://12695.portal.athenahealth.com/` and runs through the different variations of that and then pulls the practice name on the site into an Excel file.\n",
        "\n",
        "Every site has the same format \"welcome to the _ patient portal\"- so we would just need the algorithm to run through all the different available variations of the URL format and then pull the URL and the portal and the \"welcome to the _ patient portal\" part of the site into an excel file."
      ],
      "metadata": {
        "id": "X-o89aKlmS0x"
      }
    },
    {
      "cell_type": "code",
      "execution_count": 1,
      "metadata": {
        "id": "hc-vo5pAlu3e"
      },
      "outputs": [],
      "source": [
        "#importing libraries\n",
        "import requests \n",
        "from bs4 import BeautifulSoup"
      ]
    },
    {
      "cell_type": "code",
      "source": [
        "#base url\n",
        "url = \"https://12695.portal.athenahealth.com/\""
      ],
      "metadata": {
        "id": "dP1kPC1fl2uL"
      },
      "execution_count": 2,
      "outputs": []
    },
    {
      "cell_type": "code",
      "source": [
        "response = requests.get(url)"
      ],
      "metadata": {
        "id": "9FJuvU3GmIBL"
      },
      "execution_count": 3,
      "outputs": []
    },
    {
      "cell_type": "code",
      "source": [
        "#checking response\n",
        "response"
      ],
      "metadata": {
        "colab": {
          "base_uri": "https://localhost:8080/"
        },
        "id": "xfM2cSO1oXYD",
        "outputId": "7834d437-db06-4bf8-ffa0-a4a6f79eeca0"
      },
      "execution_count": 4,
      "outputs": [
        {
          "output_type": "execute_result",
          "data": {
            "text/plain": [
              "<Response [200]>"
            ]
          },
          "metadata": {},
          "execution_count": 4
        }
      ]
    },
    {
      "cell_type": "code",
      "source": [
        "#Assigning the text to a html variable name \n",
        "html = response.text"
      ],
      "metadata": {
        "id": "JBgTgoRiocta"
      },
      "execution_count": 7,
      "outputs": []
    },
    {
      "cell_type": "code",
      "source": [
        "soup = BeautifulSoup(html, 'html.parser')"
      ],
      "metadata": {
        "id": "HFjSRPYdoqRE"
      },
      "execution_count": 11,
      "outputs": []
    },
    {
      "cell_type": "code",
      "source": [
        "soup.find_all('h1')[-1]"
      ],
      "metadata": {
        "colab": {
          "base_uri": "https://localhost:8080/"
        },
        "id": "rwxg9aHUpBzj",
        "outputId": "200fb116-7cff-48ae-8c7a-b74a05b03c08"
      },
      "execution_count": 17,
      "outputs": [
        {
          "output_type": "execute_result",
          "data": {
            "text/plain": [
              "<h1 align=\"center\">\n",
              "Dr. Richard Handelsman</h1>"
            ]
          },
          "metadata": {},
          "execution_count": 17
        }
      ]
    },
    {
      "cell_type": "markdown",
      "source": [
        "Looking at the website we can see that the last element in the 'h1' tag is always the practice name consistently in more than 4 website vaiations 12695-12699 and this then simplifies things for us as we can just extract that instead of the \"welcome to the _ patient portal\""
      ],
      "metadata": {
        "id": "TCgjr6oopwGb"
      }
    },
    {
      "cell_type": "code",
      "source": [
        "clinic_name = soup.find_all('h1')[-1].text.strip()"
      ],
      "metadata": {
        "colab": {
          "base_uri": "https://localhost:8080/",
          "height": 35
        },
        "id": "awx4nwNgpGit",
        "outputId": "ab1abe3a-311a-46ee-c960-91f0f5d2fe31"
      },
      "execution_count": 18,
      "outputs": [
        {
          "output_type": "execute_result",
          "data": {
            "text/plain": [
              "'Dr. Richard Handelsman'"
            ],
            "application/vnd.google.colaboratory.intrinsic+json": {
              "type": "string"
            }
          },
          "metadata": {},
          "execution_count": 18
        }
      ]
    },
    {
      "cell_type": "code",
      "source": [
        "#Defining a function that will return the clinic name \n",
        "\n",
        "def get_clinic_name(clinic_id):\n",
        "  url = f\"https://{clinic_id}.portal.athenahealth.com/\"\n",
        "  response = requests.get(url)\n",
        "  html = response.text\n",
        "  soup = BeautifulSoup(html, 'html.parser')\n",
        "  clinic_name = soup.find_all('h1')[-1].text.strip()\n",
        "  return clinic_name"
      ],
      "metadata": {
        "id": "K0sf4XKUqrsR"
      },
      "execution_count": 19,
      "outputs": []
    },
    {
      "cell_type": "markdown",
      "source": [
        "Now we do not know the range of the clinic ID's so that would be the next step. Upon inspection of the websites we find that there are two distinct errors that we get when a practice is not found \n",
        "- \"Sorry, we can't find that practice. Make sure you typed the right address.\""
      ],
      "metadata": {
        "id": "ymC0hedWsvvJ"
      }
    },
    {
      "cell_type": "code",
      "source": [
        "get_clinic_name(7999)"
      ],
      "metadata": {
        "colab": {
          "base_uri": "https://localhost:8080/",
          "height": 35
        },
        "id": "GGD6aXf2sP-N",
        "outputId": "34a4356a-fb8b-40e5-8632-1880097f0aee"
      },
      "execution_count": 28,
      "outputs": [
        {
          "output_type": "execute_result",
          "data": {
            "text/plain": [
              "'Carolinas Sleep Specialists, P.A.'"
            ],
            "application/vnd.google.colaboratory.intrinsic+json": {
              "type": "string"
            }
          },
          "metadata": {},
          "execution_count": 28
        }
      ]
    },
    {
      "cell_type": "code",
      "source": [],
      "metadata": {
        "id": "y1YhTNUCsW-P"
      },
      "execution_count": null,
      "outputs": []
    }
  ]
}