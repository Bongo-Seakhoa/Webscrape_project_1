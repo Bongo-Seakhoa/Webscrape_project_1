{
  "nbformat": 4,
  "nbformat_minor": 0,
  "metadata": {
    "colab": {
      "provenance": [],
      "authorship_tag": "ABX9TyO5tDMaDczdIhRWjCLBtn13",
      "include_colab_link": true
    },
    "kernelspec": {
      "name": "python3",
      "display_name": "Python 3"
    },
    "language_info": {
      "name": "python"
    }
  },
  "cells": [
    {
      "cell_type": "markdown",
      "metadata": {
        "id": "view-in-github",
        "colab_type": "text"
      },
      "source": [
        "<a href=\"https://colab.research.google.com/github/Bongo-Seakhoa/Webscrape_project_1/blob/main/project_1.ipynb\" target=\"_parent\"><img src=\"https://colab.research.google.com/assets/colab-badge.svg\" alt=\"Open In Colab\"/></a>"
      ]
    },
    {
      "cell_type": "markdown",
      "source": [
        "# Webscraping sample project based on a real Upwork paid project."
      ],
      "metadata": {
        "id": "Ye05ghRUn_lz"
      }
    },
    {
      "cell_type": "markdown",
      "source": [
        "The task given is the following : \n",
        "Write a Python algorithm that finds websites with the format `https://12695.portal.athenahealth.com/` and runs through the different variations of that and then pulls the practice name on the site into an Excel file.\n",
        "\n",
        "Every site has the same format \"welcome to the _ patient portal\"- so we would just need the algorithm to run through all the different available variations of the URL format and then pull the URL and the portal and the \"welcome to the _ patient portal\" part of the site into an excel file."
      ],
      "metadata": {
        "id": "X-o89aKlmS0x"
      }
    },
    {
      "cell_type": "code",
      "execution_count": 15,
      "metadata": {
        "id": "hc-vo5pAlu3e"
      },
      "outputs": [],
      "source": [
        "#importing libraries\n",
        "import requests \n",
        "from bs4 import BeautifulSoup\n",
        "import pandas as pd"
      ]
    },
    {
      "cell_type": "code",
      "source": [
        "#base url\n",
        "url = \"https://12695.portal.athenahealth.com/\""
      ],
      "metadata": {
        "id": "dP1kPC1fl2uL"
      },
      "execution_count": 2,
      "outputs": []
    },
    {
      "cell_type": "code",
      "source": [
        "response = requests.get(url)"
      ],
      "metadata": {
        "id": "9FJuvU3GmIBL"
      },
      "execution_count": 3,
      "outputs": []
    },
    {
      "cell_type": "code",
      "source": [
        "#checking response\n",
        "response"
      ],
      "metadata": {
        "colab": {
          "base_uri": "https://localhost:8080/"
        },
        "id": "xfM2cSO1oXYD",
        "outputId": "ad2de404-fdb5-48a9-e5b7-dd3e6e173a83"
      },
      "execution_count": 4,
      "outputs": [
        {
          "output_type": "execute_result",
          "data": {
            "text/plain": [
              "<Response [200]>"
            ]
          },
          "metadata": {},
          "execution_count": 4
        }
      ]
    },
    {
      "cell_type": "code",
      "source": [
        "#Assigning the text to a html variable name \n",
        "html = response.text"
      ],
      "metadata": {
        "id": "JBgTgoRiocta"
      },
      "execution_count": 5,
      "outputs": []
    },
    {
      "cell_type": "code",
      "source": [
        "soup = BeautifulSoup(html, 'html.parser')"
      ],
      "metadata": {
        "id": "HFjSRPYdoqRE"
      },
      "execution_count": 6,
      "outputs": []
    },
    {
      "cell_type": "code",
      "source": [
        "soup.find_all('h1')[-1]"
      ],
      "metadata": {
        "colab": {
          "base_uri": "https://localhost:8080/"
        },
        "id": "rwxg9aHUpBzj",
        "outputId": "e73bcaf3-62d2-4b70-f03b-dd55cccb952c"
      },
      "execution_count": 12,
      "outputs": [
        {
          "output_type": "execute_result",
          "data": {
            "text/plain": [
              "<h1 align=\"center\">\n",
              "Dr. Richard Handelsman</h1>"
            ]
          },
          "metadata": {},
          "execution_count": 12
        }
      ]
    },
    {
      "cell_type": "markdown",
      "source": [
        "Looking at the website we can see that the last element in the 'h1' tag is always the practice name consistently in more than 4 website vaiations 12695-12699 and this then simplifies things for us as we can just extract that instead of the \"welcome to the _ patient portal\""
      ],
      "metadata": {
        "id": "TCgjr6oopwGb"
      }
    },
    {
      "cell_type": "code",
      "source": [
        "clinic_name = soup.find_all('h1')[-1].text.strip()"
      ],
      "metadata": {
        "id": "awx4nwNgpGit"
      },
      "execution_count": 9,
      "outputs": []
    },
    {
      "cell_type": "code",
      "source": [
        "#Defining a function that will return the clinic name \n",
        "\n",
        "def get_clinic_name(clinic_id):\n",
        "  url = f\"https://{clinic_id}.portal.athenahealth.com/\"\n",
        "  response = requests.get(url)\n",
        "  html = response.text\n",
        "  soup = BeautifulSoup(html, 'html.parser')\n",
        "  clinic_name = soup.find_all('h1')[-1].text.strip()\n",
        "  return clinic_name"
      ],
      "metadata": {
        "id": "K0sf4XKUqrsR"
      },
      "execution_count": 10,
      "outputs": []
    },
    {
      "cell_type": "markdown",
      "source": [
        "Now we do not know the range of the clinic ID's so that would be the next step. Upon inspection of the websites we find that there are two distinct errors that we get when a practice is not found \n",
        "- \"Sorry, we can't find that practice. Make sure you typed the right address.\"\n",
        "- \"Payment Confirmation\""
      ],
      "metadata": {
        "id": "ymC0hedWsvvJ"
      }
    },
    {
      "cell_type": "code",
      "source": [
        "get_clinic_name(5000)"
      ],
      "metadata": {
        "colab": {
          "base_uri": "https://localhost:8080/",
          "height": 35
        },
        "id": "GGD6aXf2sP-N",
        "outputId": "f5ca42c7-0ccf-464d-f492-c00c7cf08362"
      },
      "execution_count": 13,
      "outputs": [
        {
          "output_type": "execute_result",
          "data": {
            "text/plain": [
              "'Payment Confirmation'"
            ],
            "application/vnd.google.colaboratory.intrinsic+json": {
              "type": "string"
            }
          },
          "metadata": {},
          "execution_count": 13
        }
      ]
    },
    {
      "cell_type": "markdown",
      "source": [
        "Now we are going to combine it all and produce the final CSV document as requested by the client"
      ],
      "metadata": {
        "id": "bbxITOEGOGIH"
      }
    },
    {
      "cell_type": "code",
      "source": [
        "#Defining start and end paramiters of the clinic ID's (website vairiations)\n",
        "start = 12500\n",
        "end = 12700"
      ],
      "metadata": {
        "id": "dvKeJASuJIOP"
      },
      "execution_count": 16,
      "outputs": []
    },
    {
      "cell_type": "code",
      "source": [
        "#Creating a master list to hold all our dictionaries \n",
        "master_list = []\n",
        "#for loop to run through all our variations of the website as defined by our start and end.\n",
        "for clinic_id in range (start,end+1):\n",
        "  data_dict = {} \n",
        "  data_dict[\"clinic_id\"] = clinic_id\n",
        "  data_dict[\"clinic_name\"] = get_clinic_name(clinic_id)\n",
        "  if data_dict['clinic_name'] != \"Payment Confirmation\" and data_dict['clinic_name'] != \"Sorry, we can't find that practice. Make sure you typed the right address.\":\n",
        "    master_list.append(data_dict)"
      ],
      "metadata": {
        "colab": {
          "base_uri": "https://localhost:8080/"
        },
        "id": "y1YhTNUCsW-P",
        "outputId": "7bf2d56c-e6d8-4c1a-91f6-d5122b54f347"
      },
      "execution_count": 18,
      "outputs": [
        {
          "output_type": "stream",
          "name": "stdout",
          "text": [
            "12500\n",
            "12501\n",
            "12502\n",
            "12503\n",
            "12504\n",
            "12505\n",
            "12506\n",
            "12507\n",
            "12508\n",
            "12509\n",
            "12510\n",
            "12511\n",
            "12512\n",
            "12513\n",
            "12514\n",
            "12515\n",
            "12516\n",
            "12517\n",
            "12518\n",
            "12519\n",
            "12520\n",
            "12521\n",
            "12522\n",
            "12523\n",
            "12524\n",
            "12525\n",
            "12526\n",
            "12527\n",
            "12528\n",
            "12529\n",
            "12530\n",
            "12531\n",
            "12532\n",
            "12533\n",
            "12534\n",
            "12535\n",
            "12536\n",
            "12537\n",
            "12538\n",
            "12539\n",
            "12540\n",
            "12541\n",
            "12542\n",
            "12543\n",
            "12544\n",
            "12545\n",
            "12546\n",
            "12547\n",
            "12548\n",
            "12549\n",
            "12550\n",
            "12551\n",
            "12552\n",
            "12553\n",
            "12554\n",
            "12555\n",
            "12556\n",
            "12557\n",
            "12558\n",
            "12559\n",
            "12560\n",
            "12561\n",
            "12562\n",
            "12563\n",
            "12564\n",
            "12565\n",
            "12566\n",
            "12567\n",
            "12568\n",
            "12569\n",
            "12570\n",
            "12571\n",
            "12572\n",
            "12573\n",
            "12574\n",
            "12575\n",
            "12576\n",
            "12577\n",
            "12578\n",
            "12579\n",
            "12580\n",
            "12581\n",
            "12582\n",
            "12583\n",
            "12584\n",
            "12585\n",
            "12586\n",
            "12587\n",
            "12588\n",
            "12589\n",
            "12590\n",
            "12591\n",
            "12592\n",
            "12593\n",
            "12594\n",
            "12595\n",
            "12596\n",
            "12597\n",
            "12598\n",
            "12599\n",
            "12600\n",
            "12601\n",
            "12602\n",
            "12603\n",
            "12604\n",
            "12605\n",
            "12606\n",
            "12607\n",
            "12608\n",
            "12609\n",
            "12610\n",
            "12611\n",
            "12612\n",
            "12613\n",
            "12614\n",
            "12615\n",
            "12616\n",
            "12617\n",
            "12618\n",
            "12619\n",
            "12620\n",
            "12621\n",
            "12622\n",
            "12623\n",
            "12624\n",
            "12625\n",
            "12626\n",
            "12627\n",
            "12628\n",
            "12629\n",
            "12630\n",
            "12631\n",
            "12632\n",
            "12633\n",
            "12634\n",
            "12635\n",
            "12636\n",
            "12637\n",
            "12638\n",
            "12639\n",
            "12640\n",
            "12641\n",
            "12642\n",
            "12643\n",
            "12644\n",
            "12645\n",
            "12646\n",
            "12647\n",
            "12648\n",
            "12649\n",
            "12650\n",
            "12651\n",
            "12652\n",
            "12653\n",
            "12654\n",
            "12655\n",
            "12656\n",
            "12657\n",
            "12658\n",
            "12659\n",
            "12660\n",
            "12661\n",
            "12662\n",
            "12663\n",
            "12664\n",
            "12665\n",
            "12666\n",
            "12667\n",
            "12668\n",
            "12669\n",
            "12670\n",
            "12671\n",
            "12672\n",
            "12673\n",
            "12674\n",
            "12675\n",
            "12676\n",
            "12677\n",
            "12678\n",
            "12679\n",
            "12680\n",
            "12681\n",
            "12682\n",
            "12683\n",
            "12684\n",
            "12685\n",
            "12686\n",
            "12687\n",
            "12688\n",
            "12689\n",
            "12690\n",
            "12691\n",
            "12692\n",
            "12693\n",
            "12694\n",
            "12695\n",
            "12696\n",
            "12697\n",
            "12698\n",
            "12699\n",
            "12700\n"
          ]
        }
      ]
    },
    {
      "cell_type": "code",
      "source": [
        "#Creating a dataframe out of the master_list list of dictionaries\n",
        "df = pd.DataFrame(master_list)"
      ],
      "metadata": {
        "id": "ORGcJ_vJLrEX"
      },
      "execution_count": 19,
      "outputs": []
    },
    {
      "cell_type": "code",
      "source": [
        "#Creating the final CSV\n",
        "df.to_csv('clinic_data.csv', index=False)"
      ],
      "metadata": {
        "id": "n2xFQuo6Ly6z"
      },
      "execution_count": 20,
      "outputs": []
    },
    {
      "cell_type": "code",
      "source": [],
      "metadata": {
        "id": "a-_t7KFNMEco"
      },
      "execution_count": null,
      "outputs": []
    }
  ]
}